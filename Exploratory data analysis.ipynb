{
 "cells": [
  {
   "cell_type": "code",
   "execution_count": null,
   "id": "06ed368e-7752-44ee-b5c2-0039df9a26a5",
   "metadata": {},
   "outputs": [],
   "source": [
    "# Inputs\n",
    "TICKER = \"AAPL\"\n",
    "DROP_TICKERS = False"
   ]
  },
  {
   "cell_type": "code",
   "execution_count": null,
   "id": "ff3765df-056e-4cb9-9500-9d8209d3d777",
   "metadata": {},
   "outputs": [],
   "source": [
    "import glob\n",
    "\n",
    "import numpy as np\n",
    "import pandas as pd\n",
    "import plotly.express as px\n",
    "import plotly.graph_objects as go\n",
    "from scipy.stats import norm, cauchy\n",
    "\n",
    "import strat_defs # custom functions\n",
    "import prep_data"
   ]
  },
  {
   "cell_type": "code",
   "execution_count": null,
   "id": "ab3f66cb-9edf-435e-a020-207f63f4cd9d",
   "metadata": {},
   "outputs": [],
   "source": [
    "gt_monthly_files = glob.glob('data/gt_monthly_*.csv')\n",
    "gt_monthly_latest = max(gt_monthly_files, key=lambda f: f.split(\"_\")[2])\n",
    "gt_monthly_raw = pd.read_csv(gt_monthly_latest, parse_dates=['start_date','end_date'])\n",
    "\n",
    "gt_weekly_files = glob.glob('data/gt_weekly_*.csv')\n",
    "gt_weekly_latest = max(gt_weekly_files, key=lambda f: f.split(\"_\")[2])\n",
    "gt_weekly_raw = pd.read_csv(gt_weekly_latest, parse_dates=['start_date','end_date'])\n",
    "\n",
    "gt_daily_files = glob.glob('data/gt_daily_*.csv')\n",
    "gt_daily_latest = max(gt_daily_files, key=lambda f: f.split(\"_\")[2])\n",
    "gt_daily_raw = pd.read_csv(gt_daily_latest, parse_dates=['date'])\n",
    "\n",
    "gt_adjusted_files = glob.glob('data/gt_adjusted_*.csv')\n",
    "gt_adjusted_latest = max(gt_adjusted_files, key=lambda f: f.split(\"_\")[2])\n",
    "gt_adjusted_raw = pd.read_csv(gt_adjusted_latest, parse_dates=['date'])\n",
    "\n",
    "stocks_df, wiki_pageviews, ffr_raw, weather, gt_adjusted = prep_data.load_data()"
   ]
  },
  {
   "cell_type": "code",
   "execution_count": null,
   "id": "cacd5d85-7370-439e-882b-5d174604529d",
   "metadata": {
    "scrolled": true
   },
   "outputs": [],
   "source": [
    "# Set up prepd_data data frame\n",
    "prepd_data = prep_data.prep_data(\n",
    "    stocks_df,\n",
    "    wiki_pageviews,\n",
    "    ffr_raw,\n",
    "    weather,\n",
    "    gt_adjusted,\n",
    "    config=prep_data.IndicatorConfig(ticker=TICKER),\n",
    "    drop_tickers=DROP_TICKERS\n",
    ")"
   ]
  },
  {
   "cell_type": "code",
   "execution_count": null,
   "id": "2dff8746-5f6a-453d-9c98-f3a6de942288",
   "metadata": {},
   "outputs": [],
   "source": [
    "prepd_data_ext = prepd_data\n",
    "prepd_data_ext['day_of_week_name'] = prepd_data_ext['Date'].dt.day_name()\n",
    "\n",
    "review_cols = ['Date', 'day_of_week_name', 'Adj Close_SPY', 'index_Trump', 'Target']\n",
    "\n",
    "prepd_data_ext[review_cols]"
   ]
  },
  {
   "cell_type": "code",
   "execution_count": null,
   "id": "8d85cd06-9713-4595-9624-f143ffe8fb5c",
   "metadata": {},
   "outputs": [],
   "source": [
    "selected_kw = \"Trump\"\n",
    "\n",
    "for_monthly = gt_monthly_raw.loc[gt_monthly_raw['search_term']==selected_kw].sort_values(by='start_date')\n",
    "for_monthly['params_date_range'] = for_monthly['pytrends_params'].str.extract(r'\"(\\d{4}-\\d{2}-\\d{2} \\d{4}-\\d{2}-\\d{2})\"')[0]\n",
    "for_monthly = for_monthly.loc[for_monthly['params_date_range']==max(for_monthly['params_date_range'])] # could be chunky if ran mult. per day\n",
    "\n",
    "for_daily = gt_adjusted_raw.loc[gt_adjusted_raw['search_term']==selected_kw].sort_values(by='date')\n",
    "\n",
    "for_daily_bp = gt_daily_raw.loc[gt_daily_raw['search_term']==selected_kw].sort_values(by='date')\n",
    "for_daily_bp['day_of_week'] = for_daily_bp['date'].dt.day_name()\n",
    "\n",
    "fig1 = px.line(for_monthly, x=\"start_date\", y=\"index\", labels={'start_date':'Month'},title=f'{selected_kw} Monthly index')\n",
    "fig2 = px.line(for_daily, x=\"date\", y=\"index\",labels={'date':'Date','index':'Scaled index'},title=f'{selected_kw} Daily scaled index')\n",
    "fig3 = px.box(for_daily_bp, x=\"day_of_week\", y=\"index\",labels={'day_of_week':'Day of week'},title=f'{selected_kw} index by Day of week')\n",
    "fig3.update_xaxes(categoryorder='array', categoryarray=['Sunday','Monday','Tuesday','Wednesday','Thursday','Friday','Saturday'])\n",
    "fig1.show()\n",
    "fig2.show()\n",
    "fig3.show()"
   ]
  },
  {
   "cell_type": "code",
   "execution_count": null,
   "id": "2f92a8e9-0273-4f9e-9063-e80269fd0498",
   "metadata": {},
   "outputs": [],
   "source": [
    "vol_cols = [col for col in prepd_data.columns if 'Volume_' in col]\n",
    "\n",
    "column_sums = prepd_data[vol_cols].sum().sort_values(ascending=False)\n",
    "\n",
    "px.bar(\n",
    "    x=column_sums.index.str.replace('Volume_', ''),\n",
    "    y=column_sums.values,\n",
    "    labels={'x': 'Ticker', 'y': 'Total Volume'},\n",
    "    title=\"Total Volume by Ticker\"\n",
    ")"
   ]
  },
  {
   "cell_type": "code",
   "execution_count": null,
   "id": "fa453cb6-580b-4ef2-b3fc-f1b2551d0aae",
   "metadata": {},
   "outputs": [],
   "source": [
    "column_sums.tail(10)"
   ]
  },
  {
   "cell_type": "code",
   "execution_count": null,
   "id": "a279dc80-8942-45f3-9a65-66ba10d01a01",
   "metadata": {},
   "outputs": [],
   "source": [
    "data = prepd_data['Daily_Return'].dropna()\n",
    "\n",
    "# Compute histogram using numpy to get exact bin edges and bin width\n",
    "hist_values, bin_edges = np.histogram(data, bins=300, density=False)\n",
    "bin_width = bin_edges[1] - bin_edges[0]\n",
    "\n",
    "# x values covering the histogram's range using the same bin edges\n",
    "x = np.linspace(bin_edges[0], bin_edges[-1], 100)\n",
    "\n",
    "# Create a histogram in Plotly using explicit binning to match np.histogram\n",
    "hist = go.Histogram(x=data, xbins=dict(start=bin_edges[0], end=bin_edges[-1], size=bin_width), name=\"Histogram\")\n",
    "\n",
    "# Fit distributions and create PDFs\n",
    "mu, std = norm.fit(data)\n",
    "loc, scale = cauchy.fit(data)\n",
    "\n",
    "pdf_norm = norm.pdf(x, mu, std) * len(data) * bin_width\n",
    "pdf_cauchy = cauchy.pdf(x, loc, scale) * len(data) * bin_width\n",
    "\n",
    "# Create curves\n",
    "curve_norm = go.Scatter(x=x, y=pdf_norm, mode='lines', name=\"Fitted Normal\")\n",
    "curve_cauchy = go.Scatter(x=x, y=pdf_cauchy, mode='lines', name=\"Fitted Cauchy\")\n",
    "\n",
    "fig = go.Figure([hist, curve_norm, curve_cauchy])\n",
    "fig.update_layout(\n",
    "    title=f\"SPY Daily Return Histogram with Fitted Normal and Cauchy Distributions\",\n",
    "    xaxis_title=\"Value\",\n",
    "    yaxis_title=\"Frequency\"\n",
    ")\n",
    "fig.show()"
   ]
  },
  {
   "cell_type": "code",
   "execution_count": null,
   "id": "71803816-2c0b-4163-9610-73164f821b21",
   "metadata": {},
   "outputs": [],
   "source": [
    "# # Compute correlation matrix (slow/ laggy if looking at tickers)\n",
    "# exclude_vars = (\"Open\",\"High\",\"Low\",\"Close\",\"Volume\",\"day_of_week\",\"streak\",\"movement\")\n",
    "# corr = prepd_data.select_dtypes(include='number')\n",
    "# corr = corr.drop(columns=[col for col in corr.columns if \"Target\" in col])\n",
    "# corr = corr.drop(columns=[\n",
    "#     col for col in corr.columns \n",
    "#     if any(col.startswith(prefix) for prefix in exclude_vars) and col != \"Adj Close_\"+TICKER\n",
    "# ])\n",
    "# corr = corr.corr().round(3)\n",
    "\n",
    "# # Melt the correlation matrix into long-form for px.imshow\n",
    "# fig = px.imshow(corr, text_auto=True, color_continuous_scale=\"RdBu\", zmin=-1, zmax=1, title=\"Correlation Heatmap\")\n",
    "\n",
    "# fig.update_layout(width=1000,height=800)\n",
    "# fig.show()"
   ]
  },
  {
   "cell_type": "code",
   "execution_count": null,
   "id": "d7576e5f-e3b1-4301-b998-a72032f8fc59",
   "metadata": {},
   "outputs": [],
   "source": [
    "fig = px.scatter(x=prepd_data[f'Volume_{TICKER}'], y=prepd_data['Daily_Return'])\n",
    "fig.update_layout(title=f\"{TICKER} Daily Return vs Volume\", xaxis_title=\"Volume\", yaxis_title=\"Daily Return\")\n",
    "fig.show()\n",
    "\n",
    "fig = px.scatter(x=prepd_data[f'views_{TICKER}'], y=prepd_data['Daily_Return'])\n",
    "fig.update_layout(title=f\"{TICKER} Daily Return vs Wiki Page Views\", xaxis_title=\"Views\", yaxis_title=\"Daily Return\")\n",
    "fig.show()\n",
    "\n",
    "fig = px.scatter(x=prepd_data[f'index_inflation'], y=prepd_data['Daily_Return'])\n",
    "fig.update_layout(title=f'{TICKER} Daily Return vs Google Trends \"Inflaiton\" index', xaxis_title=\"Index\", yaxis_title=\"Daily Return\")\n",
    "fig.show()"
   ]
  }
 ],
 "metadata": {
  "celltoolbar": "Raw Cell Format",
  "kernelspec": {
   "display_name": "Python [conda env:base] *",
   "language": "python",
   "name": "conda-base-py"
  },
  "language_info": {
   "codemirror_mode": {
    "name": "ipython",
    "version": 3
   },
   "file_extension": ".py",
   "mimetype": "text/x-python",
   "name": "python",
   "nbconvert_exporter": "python",
   "pygments_lexer": "ipython3",
   "version": "3.12.7"
  }
 },
 "nbformat": 4,
 "nbformat_minor": 5
}
