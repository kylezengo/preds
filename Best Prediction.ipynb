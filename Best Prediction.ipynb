{
 "cells": [
  {
   "cell_type": "code",
   "execution_count": null,
   "id": "f2a434b5",
   "metadata": {},
   "outputs": [],
   "source": [
    "import glob\n",
    "import os\n",
    "import time\n",
    "\n",
    "import numpy as np\n",
    "import pandas as pd\n",
    "import plotly.graph_objects as go\n",
    "\n",
    "import strat_defs # custom functions\n",
    "import prep_data"
   ]
  },
  {
   "cell_type": "code",
   "execution_count": null,
   "id": "138eb238-b332-428a-83a1-c16af5fd380d",
   "metadata": {},
   "outputs": [],
   "source": [
    "def gen_powerset(some_list):\n",
    "    powerset = [[]]\n",
    "\n",
    "    for i in some_list:\n",
    "        powerset += [x + [i] for x in powerset]\n",
    "\n",
    "    return powerset"
   ]
  },
  {
   "cell_type": "code",
   "execution_count": null,
   "id": "c86402ee-ee11-4163-b6e4-86b3c41e33b5",
   "metadata": {},
   "outputs": [],
   "source": [
    "sp_df_files = glob.glob('sp_df_*.csv')\n",
    "sp_df_latest = max(sp_df_files, key=os.path.getctime)\n",
    "sp_df_raw = pd.read_csv(sp_df_latest, parse_dates=['Date added'])\n",
    "\n",
    "stocks_df, wiki_pageviews, ffr_raw, weather, gt_adjusted = prep_data.load_data()"
   ]
  },
  {
   "cell_type": "code",
   "execution_count": null,
   "id": "1b3dfba8-e20d-42f2-9274-ef4246c10070",
   "metadata": {},
   "outputs": [],
   "source": [
    "set(sp_df_raw['GICS Sector'])"
   ]
  },
  {
   "cell_type": "markdown",
   "id": "4f1b6c35",
   "metadata": {
    "editable": true,
    "slideshow": {
     "slide_type": ""
    },
    "tags": []
   },
   "source": [
    "### Set configuration and parameters for model testing"
   ]
  },
  {
   "cell_type": "code",
   "execution_count": null,
   "id": "2db9ea38-1a36-4a8a-b2fb-a95218a546e5",
   "metadata": {},
   "outputs": [],
   "source": [
    "# Indicator Configuration\n",
    "moving_average_config = prep_data.MovingAverageConfig(short_window=10, long_window=50)\n",
    "bollinger_config = prep_data.BollingerConfig(window=90, num_std=3.0)\n",
    "macd_config = prep_data.MACDConfig(short_window=12, long_window=26)\n",
    "\n",
    "# Backtest Configuration\n",
    "keras_config = strat_defs.KerasConfig(proba=0.5, sequence_length=30, epochs=20)\n",
    "proba_config = strat_defs.ProbaConfig(knn = 0.5, logit = 0.5, mlp = 0.5, rf = 0.5, svc = 0.5, xgboost = 0.5)\n",
    "\n",
    "backtest_config = strat_defs.BacktestConfig(\n",
    "    retrain_days = 10,\n",
    "    proba = proba_config,\n",
    "    keras = keras_config\n",
    ")"
   ]
  },
  {
   "cell_type": "markdown",
   "id": "93df6292-7ba4-4a24-873e-2c1d0487c7ee",
   "metadata": {},
   "source": [
    "**s_date**\\\n",
    "data start date S&P 500 minimum is 1993-01-29, Wikipedia page views minimum is 2015-07-01\n",
    "\n",
    "**exclude_vars**\\\n",
    "enum {\"Open\",\"High\",\"Low\",\"Close\",\"Adj Close\",\"Volume\",\"movement\", \"views\"}\n",
    "\n",
    "**strategy_list**\\\n",
    "enum {\"Hold\",\"KNN\",\"Logit\",\"MLP\",\"RandomForest\",\"SVC_proba\",\"XGBoost\",\"Keras\",\"Perfection\"}\n",
    "\n",
    "From fast to slow (usually): Hold, Perfection, KNN, Logit, XGBoost, SVC_proba(200s), MLP (2978s), Keras(4048s)\n",
    "\n",
    "For Best Prediction, I'm removing strategies that do not give a probability\n",
    "\n",
    "\\\n",
    "*If testing Breakout, \"High\" and \"Low\" cannot be excluded*"
   ]
  },
  {
   "cell_type": "code",
   "execution_count": null,
   "id": "c88598b0-2602-4f9a-bec4-fd0eeecd5252",
   "metadata": {},
   "outputs": [],
   "source": [
    "s_date = \"2015-07-01\"\n",
    "exclude_vars = (\"Open\",\"High\",\"Low\",\"Close\",\"Adj Close\",\"Volume\")\n",
    "\n",
    "initial_train_period = 1890 # 2015-07-01 start predicting in 2023\n",
    "# initial_train_period = 2140 # 2015-07-01 start predicting in 2024\n",
    "# initial_train_period = 7535 # 1993-01-29 start predicting in 2024\n",
    "random_state = 42\n",
    "n_jobs = -1\n",
    "\n",
    "# Stocks to test\n",
    "these_dont_work = ['GOOG', 'FOX', 'NWS']\n",
    "to_test = list(sp_df_raw.loc[sp_df_raw['Date added']<=\"2015-07-01\",'Symbol'])\n",
    "to_test = [x for x in to_test if x not in these_dont_work]\n",
    "                                           \n",
    "# Strategies to test\n",
    "# strategy_list = [\"Hold\",\"KNN\",\"Logit\"] # 2h 2min with n_jobs = -1, KNN always best prob for some reason?\n",
    "strategy_list = [\"Hold\",\"KNN\",\"Logit\", \"XGBoost\"] # 13h 47min with n_jobs = None, KNN always best prob for some reason?\n",
    "                                                  # 12h 23min with n_jobs = -1"
   ]
  },
  {
   "cell_type": "markdown",
   "id": "2cc9c206-2049-4107-8a42-a45f2a78916a",
   "metadata": {},
   "source": [
    "### Run models"
   ]
  },
  {
   "cell_type": "code",
   "execution_count": null,
   "id": "176ac32a",
   "metadata": {
    "scrolled": true
   },
   "outputs": [],
   "source": [
    "%%time\n",
    "strat_bds, strat_mods = {}, {}\n",
    "for ticker in to_test:\n",
    "    print(f'\\n\\033[1m{ticker}\\033[0m')\n",
    "    indicator_config = prep_data.IndicatorConfig(ticker=ticker)\n",
    "    prepd_data = prep_data.prep_data(stocks_df, wiki_pageviews, ffr_raw, weather, gt_adjusted, config=indicator_config, drop_tickers=True)\n",
    "\n",
    "    df_for_chart = prepd_data.loc[prepd_data['Date']>=s_date].reset_index(drop=True)\n",
    "    df_for_chart = df_for_chart.drop(columns=[\n",
    "        col for col in df_for_chart.columns \n",
    "        if any(col.startswith(prefix) for prefix in exclude_vars) and col != indicator_config.target+\"_\"+ticker\n",
    "    ])\n",
    "    df_for_chart = df_for_chart.dropna(axis='columns') # drop columns with an na\n",
    "\n",
    "    print(f'Training on data set with {len(df_for_chart)} rows and {df_for_chart.shape[1]-1} features')\n",
    "\n",
    "    # Calculate portfolio value over time\n",
    "    for strat in strategy_list:\n",
    "        start_time = time.time()\n",
    "        print(f'{strat}', end=\" \")\n",
    "        backtested_data,model,score = strat_defs.backtest_strategy(\n",
    "            data=df_for_chart,\n",
    "            strategy=strat,\n",
    "            target='Adj Close',\n",
    "            ticker=ticker,\n",
    "            config=backtest_config,\n",
    "            initial_train_period=initial_train_period,\n",
    "            random_state=random_state,\n",
    "            n_jobs=n_jobs\n",
    "        )\n",
    "        end_time = time.time()\n",
    "        print(f'score = {score}, time = {end_time-start_time}')\n",
    "\n",
    "        strat_bds[f'{ticker}_{strat}'] = backtested_data\n",
    "        strat_mods[f'{ticker}_{strat}'] = model"
   ]
  },
  {
   "cell_type": "code",
   "execution_count": null,
   "id": "57f75ec0-98a0-485d-9be3-be2fcb22f3ff",
   "metadata": {},
   "outputs": [],
   "source": [
    "proba_strats = [x for x in strategy_list if x not in [\"Hold\"]]\n",
    "\n",
    "combos = gen_powerset(proba_strats)\n",
    "combos.remove([])\n",
    "\n",
    "all_mod_results_dic = {}\n",
    "for mods in combos:\n",
    "    print(mods)\n",
    "    df_to_build = strat_bds[to_test[0]+\"_\"+mods[0]][['Date']] # start with just date column\n",
    "\n",
    "    # Get results for all tickers in to_test, in this subgroup of models, eg ['KNN_Logit']\n",
    "    for ticker in to_test:\n",
    "    \n",
    "        # Get the results for a ticker with the first model in mods list\n",
    "        df_prev = strat_bds[ticker+\"_\"+mods[0]][['Date','Daily_Return','proba_1']]\n",
    "        df_prev = df_prev.rename(columns={'Daily_Return': f'Daily_Return_{ticker}'\n",
    "                                          ,'proba_1': f'{ticker}_proba_1{mods[0]}'})\n",
    "        df_to_build = df_to_build.merge(df_prev,on='Date')\n",
    "\n",
    "        # Get results for this ticker for other models in mods\n",
    "        for model in mods[1:]:  ########################### only for ['KNN', 'Logit'] which just goes to KNN! (testing 3/31)\n",
    "            df = strat_bds[ticker+\"_\"+model][['Date','proba_1']].copy()\n",
    "            # df['proba_1'] = 1 - df['proba_1']\n",
    "            df = df.rename(columns={'proba_1': f'{ticker}_proba_1{model}'})\n",
    "            df_to_build = df_to_build.merge(df,on='Date')\n",
    "\n",
    "    proba_cols = [col for col in df_to_build.columns if 'proba_1' in col]\n",
    "\n",
    "    df_to_build['proba_1max'] = df_to_build[proba_cols].max(axis=1) # max value acoss all proba_1 cols\n",
    "\n",
    "    # Column name that proba_1max is in\n",
    "    mask = df_to_build[proba_cols].notna().any(axis=1)\n",
    "    df_to_build.loc[mask, 'proba_1max_col'] = df_to_build.loc[mask, proba_cols].idxmax(axis=1, skipna=True)\n",
    "    \n",
    "    # Daily return column name of relevant ticker\n",
    "    df_to_build['proba_1max_ticker'] = \"Daily_Return_\"+df_to_build['proba_1max_col'].str.split('_').str[0]\n",
    "\n",
    "    df_to_build['yesterday_proba_1max'] = df_to_build['proba_1max'].shift(1)\n",
    "    df_to_build['yesterday_proba_1max_col'] = df_to_build['proba_1max_col'].shift(1)\n",
    "    df_to_build['yesterday_proba_1max_ticker'] = df_to_build['proba_1max_ticker'].shift(1)\n",
    "    \n",
    "    # Value of daily return column of relevant ticker\n",
    "    df_to_build['yesterday_proba_1max_ticker_today_Daily_return'] = df_to_build.apply(\n",
    "        lambda row: row[row['yesterday_proba_1max_ticker']] if pd.notnull(row['yesterday_proba_1max_col']) else row['Daily_Return_SPY'], axis=1\n",
    "    )\n",
    "\n",
    "    df_to_build['Strategy_Return'] = df_to_build['yesterday_proba_1max_ticker_today_Daily_return']\n",
    "\n",
    "    df_to_build.loc[df_to_build['yesterday_proba_1max'] < 0.7, 'Strategy_Return'] = df_to_build['Daily_Return_SPY']\n",
    "    df_to_build.loc[0, 'Strategy_Return'] = np.nan\n",
    "\n",
    "    # df_to_build has results for this model for all tickers\n",
    "    all_mod_results_dic[\"_\".join(mods)] = df_to_build"
   ]
  },
  {
   "cell_type": "markdown",
   "id": "da4f7ed1-e8d0-4948-9ad2-aabe5ee9c951",
   "metadata": {},
   "source": [
    "### Results"
   ]
  },
  {
   "cell_type": "code",
   "execution_count": null,
   "id": "c62efc5b-df52-40a3-9ce6-56045f2a7628",
   "metadata": {},
   "outputs": [],
   "source": [
    "initial_capital = 10000 # scalar\n",
    "\n",
    "# Plot Daily Portfolio Value\n",
    "fig = go.Figure()\n",
    "\n",
    "df = strat_bds['SPY_Hold'][initial_train_period:].copy()\n",
    "df.loc[initial_train_period, 'Strategy_Return'] = 0\n",
    "df['Portfolio_Value'] = (1 + df['Strategy_Return']).cumprod() * initial_capital\n",
    "\n",
    "fig.add_trace(go.Scatter(x=df['Date'], y=df['Portfolio_Value'],\n",
    "                                 mode='lines', name='PV SPY_Hold'))\n",
    "\n",
    "end_val = {'SPY':df['Portfolio_Value'].values[-1]}\n",
    "for mods in combos:\n",
    "    df = all_mod_results_dic[\"_\".join(mods)][initial_train_period:].copy()\n",
    "    df.loc[initial_train_period, 'Strategy_Return'] = 0\n",
    "    df['Portfolio_Value'] = (1 + df['Strategy_Return']).cumprod() * initial_capital\n",
    "\n",
    "    fig.add_trace(go.Scatter(x=df['Date'], y=df['Portfolio_Value'],\n",
    "                             mode='lines', name=f\"PV ({'_'.join(mods)})\"))\n",
    "    end_val['_'.join(mods)] = df['Portfolio_Value'].values[-1]\n",
    "\n",
    "fig.update_layout(title=\"Portfolio\")\n",
    "fig.show()"
   ]
  },
  {
   "cell_type": "code",
   "execution_count": null,
   "id": "4da33a4b-8f42-49ca-94fb-57bf7617abce",
   "metadata": {},
   "outputs": [],
   "source": [
    "# Which ticker is the easiest to predict? Which am I correct most often on?\n",
    "dat_review = []\n",
    "for ticker in to_test:\n",
    "    # % right\n",
    "    dat = []\n",
    "    for i in strategy_list:\n",
    "        after_train = strat_bds[ticker + \"_\" + i][initial_train_period:]\n",
    "        cc = after_train.dropna().reset_index(drop=True)\n",
    "        cc['win'] = cc['Target']==cc['Signal']\n",
    "    \n",
    "        win = cc['win'].value_counts(normalize=True)[True]\n",
    "        dat.append(win)\n",
    "    \n",
    "    try:\n",
    "        combos_join = [\"_\".join(x) for x in combos]\n",
    "        for i in combos_join:\n",
    "            cc = mod_mod_dic[i].dropna().reset_index(drop=True)\n",
    "            cc['win'] = cc['Target']==cc['Signal']\n",
    "    \n",
    "            win = cc['win'].value_counts(normalize=True)[True]\n",
    "            dat.append(win)\n",
    "    \n",
    "        dat_review.append(pd.DataFrame({'ticker': ticker ,'strategy': strategy_list + combos_join, 'pct_right': dat}))\n",
    "    except:\n",
    "        dat_review.append(pd.DataFrame({'ticker': ticker ,'strategy': strategy_list, 'pct_right': dat}))\n",
    "    \n",
    "\n",
    "final_review = pd.concat(dat_review, ignore_index=True)\n",
    "final_review = final_review.pivot(index='ticker', columns='strategy', values='pct_right')\n",
    "final_review = final_review.reset_index()\n",
    "final_review.columns.name = None\n",
    "\n",
    "final_review['max_col'] = final_review[['Hold', 'KNN','Logit', 'XGBoost']].idxmax(axis=1)\n",
    "final_review['max'] = final_review[['Hold', 'KNN','Logit', 'XGBoost']].max(axis=1)\n",
    "\n",
    "final_review['KNN_diff'] = final_review['KNN'] - final_review['Hold']\n",
    "final_review['Logit_diff'] = final_review['Logit'] - final_review['Hold']\n",
    "final_review['XGBoost_diff'] = final_review['XGBoost'] - final_review['Hold']\n",
    "\n",
    "final_review['diff_max_col'] = final_review[['KNN_diff', 'Logit_diff', 'XGBoost_diff']].idxmax(axis=1)\n",
    "final_review['diff_max'] = final_review[['KNN_diff', 'Logit_diff', 'XGBoost_diff']].max(axis=1)\n",
    "final_review['diff_mean'] = final_review[['KNN_diff', 'Logit_diff', 'XGBoost_diff']].mean(axis=1)\n",
    "\n",
    "final_review = final_review.sort_values(by='diff_mean', ascending=False).reset_index(drop=True)\n",
    "# final_review = final_review.loc[final_review['diff_mean']>0]\n",
    "final_review.loc[final_review['ticker'].isin([\"PAYC\",\"EPAM\",\"TDY\",\"MKTX\", \"HII\", \"MTD\", \"SW\", \"GEV\", \"VLTO\", \"TPL\", \"SOLV\", \"ERIE\", \"NVR\"])]\n",
    "# final_review.head(20)"
   ]
  },
  {
   "cell_type": "code",
   "execution_count": null,
   "id": "cf85a4d4-e6e6-427a-8640-54b5424db730",
   "metadata": {},
   "outputs": [],
   "source": [
    "pl_df = pd.DataFrame([end_val]).transpose().reset_index()\n",
    "pl_df = pl_df.rename(columns={0:'end_val','index':'ticker'})\n",
    "pl_df['vs_SPY'] = pl_df['end_val'] - end_val['SPY']\n",
    "pl_df.sort_values(by='vs_SPY',ascending=False)"
   ]
  }
 ],
 "metadata": {
  "celltoolbar": "Raw Cell Format",
  "kernelspec": {
   "display_name": "Python [conda env:base] *",
   "language": "python",
   "name": "conda-base-py"
  },
  "language_info": {
   "codemirror_mode": {
    "name": "ipython",
    "version": 3
   },
   "file_extension": ".py",
   "mimetype": "text/x-python",
   "name": "python",
   "nbconvert_exporter": "python",
   "pygments_lexer": "ipython3",
   "version": "3.12.7"
  }
 },
 "nbformat": 4,
 "nbformat_minor": 5
}
