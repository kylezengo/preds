{
 "cells": [
  {
   "cell_type": "code",
   "execution_count": null,
   "id": "932cc5c6-89ef-47df-9375-0e2b4d9c30c7",
   "metadata": {},
   "outputs": [],
   "source": [
    "# Inputs\n",
    "# not all inputs see config, etc to adjust more\n",
    "TICKER = \"WBA\"\n",
    "DROP_TICKERS = True\n",
    "RANDOM_STATE = 42\n",
    "N_JOBS = None"
   ]
  },
  {
   "cell_type": "code",
   "execution_count": null,
   "id": "f2a434b5",
   "metadata": {},
   "outputs": [],
   "source": [
    "import logging\n",
    "import time\n",
    "\n",
    "import numpy as np\n",
    "import pandas as pd\n",
    "import plotly.express as px\n",
    "import plotly.graph_objects as go\n",
    "\n",
    "import strat_defs # custom functions\n",
    "import prep_data"
   ]
  },
  {
   "cell_type": "code",
   "execution_count": null,
   "id": "138eb238-b332-428a-83a1-c16af5fd380d",
   "metadata": {},
   "outputs": [],
   "source": [
    "def gen_powerset(some_list):\n",
    "    powerset = [[]]\n",
    "\n",
    "    for i in some_list:\n",
    "        powerset += [x+[i] for x in powerset]\n",
    "\n",
    "    return powerset"
   ]
  },
  {
   "cell_type": "code",
   "execution_count": null,
   "id": "8c852914",
   "metadata": {},
   "outputs": [],
   "source": [
    "# Suppress prophet logging (prophet prints something each time)\n",
    "for lib in [\"prophet\", \"cmdstanpy\"]:\n",
    "    logger = logging.getLogger(lib)\n",
    "    logger.setLevel(logging.ERROR)  # Set logging level\n",
    "    \n",
    "    # Remove all existing handlers\n",
    "    while logger.hasHandlers():\n",
    "        logger.removeHandler(logger.handlers[0])\n",
    "    \n",
    "    # Add a NullHandler to prevent logs from propagating\n",
    "    logger.addHandler(logging.NullHandler())"
   ]
  },
  {
   "cell_type": "markdown",
   "id": "97cea3f2-6dac-4182-a8b6-9c7e248b405d",
   "metadata": {},
   "source": [
    "### Build dataframe for testing"
   ]
  },
  {
   "cell_type": "code",
   "execution_count": null,
   "id": "cacd5d85-7370-439e-882b-5d174604529d",
   "metadata": {},
   "outputs": [],
   "source": [
    "# Configuration\n",
    "moving_average_config = prep_data.MovingAverageConfig(short_window=10, long_window=50)\n",
    "bollinger_config = prep_data.BollingerConfig(window=90, num_std=3.0)\n",
    "macd_config = prep_data.MACDConfig(short_window=12, long_window=26)\n",
    "\n",
    "indicator_config = prep_data.IndicatorConfig(\n",
    "    ticker=TICKER,\n",
    "    target='Adj Close', # probably should always be Adj Close\n",
    "    rsi_window = 30,\n",
    "    moving_average=moving_average_config,\n",
    "    bollinger=bollinger_config,\n",
    "    macd=macd_config\n",
    ")"
   ]
  },
  {
   "cell_type": "code",
   "execution_count": null,
   "id": "9aa2daee-41ff-42e3-86b2-aab6fd0f1a22",
   "metadata": {},
   "outputs": [],
   "source": [
    "stocks_df, wiki_pageviews, ffr_raw, weather, gt_adjusted = prep_data.load_data()\n",
    "\n",
    "prepd_data = prep_data.prep_data(\n",
    "    stocks_df,\n",
    "    wiki_pageviews,\n",
    "    ffr_raw,\n",
    "    weather,\n",
    "    gt_adjusted,\n",
    "    config=indicator_config,\n",
    "    drop_tickers=DROP_TICKERS\n",
    ")"
   ]
  },
  {
   "cell_type": "markdown",
   "id": "4f1b6c35",
   "metadata": {
    "editable": true,
    "slideshow": {
     "slide_type": ""
    },
    "tags": []
   },
   "source": [
    "### Set configuration and parameters for model testing"
   ]
  },
  {
   "cell_type": "code",
   "execution_count": null,
   "id": "2db9ea38-1a36-4a8a-b2fb-a95218a546e5",
   "metadata": {},
   "outputs": [],
   "source": [
    "# Configuration\n",
    "keras_config = strat_defs.KerasConfig(proba=0.5, sequence_length=30, epochs=20)\n",
    "proba_config = strat_defs.ProbaConfig(knn=0.5, logit=0.5, mlp=0.5, rf=0.5, svc=0.5, xgboost=0.5)\n",
    "\n",
    "backtest_config = strat_defs.BacktestConfig(\n",
    "    overbought = 70,\n",
    "    retrain_days = 10,\n",
    "    proba = proba_config,\n",
    "    keras = keras_config\n",
    ")"
   ]
  },
  {
   "cell_type": "markdown",
   "id": "93df6292-7ba4-4a24-873e-2c1d0487c7ee",
   "metadata": {},
   "source": [
    "**s_date**\\\n",
    "data start date S&P 500 minimum is 1993-01-29, Wikipedia page views minimum is 2015-07-01\n",
    "\n",
    "**exclude_vars**\\\n",
    "enum {\"Open\",\"High\",\"Low\",\"Close\",\"Adj Close\",\"Volume\",\"movement\", \"views\"}\n",
    "\n",
    "**strategy_list**\\\n",
    "enum {\"Hold\", \"SMA\", \"RSI\", \"VWAP\", \"Bollinger\", \"Breakout\", \"Prophet\", \"KNN\", \"LinearSVC\", \"Logit\",\n",
    "\"MLP\", \"RandomForest\", \"SVC\", \"SVC_proba\", \"GradientBoosting\", \"XGBoost\", \"Keras\", \"Perfection\"}\n",
    "\n",
    "From fast to slow (usually - times with drop_tickers=True):\\\n",
    "Hold, Perfection, SMA, RSI, VWAP, Bollinger, Breakout, KNN(*4s*), LinearSVC(*5s*), Logit(*20s*), XGBoost(*24s*), SVC(*102s*), Prophet(*160s*), SVC_proba(*200s*), MLP(*2978s*), Keras(*4048s*)\n",
    "\n",
    "\\\n",
    "*If testing Breakout, \"High\" and \"Low\" cannot be excluded*"
   ]
  },
  {
   "cell_type": "code",
   "execution_count": null,
   "id": "c88598b0-2602-4f9a-bec4-fd0eeecd5252",
   "metadata": {},
   "outputs": [],
   "source": [
    "s_date = \"2015-07-01\"\n",
    "exclude_vars = (\"Open\",\"High\",\"Low\",\"Close\",\"Volume\")\n",
    "\n",
    "# initial_train_period = 1890 # 2015-07-01 start predicting in 2023\n",
    "initial_train_period = 2140 # 2015-07-01 start predicting in 2024\n",
    "# initial_train_period = 7535 # 1993-01-29 start predicting in 2024\n",
    "                                                     \n",
    "# Strategies to test\n",
    "strategy_list = [\"Hold\", \"KNN\", \"LinearSVC\", \"Logit\", \"XGBoost\", \"SVC_proba\"]"
   ]
  },
  {
   "cell_type": "markdown",
   "id": "2cc9c206-2049-4107-8a42-a45f2a78916a",
   "metadata": {},
   "source": [
    "### Run models"
   ]
  },
  {
   "cell_type": "code",
   "execution_count": null,
   "id": "176ac32a",
   "metadata": {
    "scrolled": true
   },
   "outputs": [],
   "source": [
    "%%time\n",
    "df_for_chart = prepd_data.loc[prepd_data['Date']>=s_date].reset_index(drop=True)\n",
    "df_for_chart = df_for_chart.drop(columns=[\n",
    "    col for col in df_for_chart.columns \n",
    "    if any(col.startswith(prefix) for prefix in exclude_vars) and col != indicator_config.target+\"_\"+indicator_config.ticker\n",
    "])\n",
    "df_for_chart = df_for_chart.dropna(axis='columns') # drop columns with an na\n",
    "\n",
    "print(f'Training on data set with {len(df_for_chart)} rows and {df_for_chart.shape[1]-1} features')\n",
    "\n",
    "# Calculate portfolio value over time\n",
    "strat_bds, strat_mods = {}, {}\n",
    "for strat in strategy_list:\n",
    "    start_time = time.time()\n",
    "    print(f'\\n{strat}')\n",
    "    backtested_data,model,score = strat_defs.backtest_strategy(\n",
    "        data=df_for_chart,\n",
    "        strategy=strat,\n",
    "        target=indicator_config.target,\n",
    "        ticker=indicator_config.ticker,\n",
    "        config=backtest_config,\n",
    "        initial_train_period=initial_train_period,\n",
    "        random_state=RANDOM_STATE,\n",
    "        n_jobs=N_JOBS\n",
    "    )\n",
    "    end_time = time.time()\n",
    "    print(f'score = {score}, time = {end_time-start_time}')\n",
    "    \n",
    "    strat_bds[strat] = backtested_data\n",
    "    strat_mods[strat] = model"
   ]
  },
  {
   "cell_type": "code",
   "execution_count": null,
   "id": "bad6a198-002c-438a-be93-3a839884e6ca",
   "metadata": {},
   "outputs": [],
   "source": [
    "proba_strats = [x for x in strategy_list if x not in [\"Hold\",\"LinearSVC\",\"SVC\",\"Prophet\",\"Perfection\"]]\n",
    "\n",
    "combos = [x for x in gen_powerset(proba_strats) if len(x) > 1]\n",
    "\n",
    "mod_mod_dic = {}\n",
    "for mods in combos:\n",
    "    # Model of models\n",
    "    if indicator_config.ticker == \"SPY\":\n",
    "        df_prev = strat_bds[mods[0]][['Date','Daily_Return','Target','proba_1','Signal']]\n",
    "    else:\n",
    "        df_prev = strat_bds[mods[0]][['Date','Daily_Return_SPY','Daily_Return','Target','proba_1','Signal']]\n",
    "\n",
    "    df_prev = df_prev.rename(columns={'proba_1': 'proba_1'+mods[0], 'Signal': 'Signal_'+mods[0]})\n",
    "\n",
    "    for i in mods[1:]:\n",
    "        mod_mod = strat_bds[i][['Date','proba_1','Signal']].rename(columns={'proba_1': 'proba_1'+i, 'Signal': 'Signal_'+i})\n",
    "        mod_mod = mod_mod.merge(df_prev,on='Date')\n",
    "        df_prev = mod_mod\n",
    "\n",
    "    # All strats predict 0\n",
    "    signal_columns = mod_mod.columns[mod_mod.columns.str.contains('Signal')]\n",
    "\n",
    "    mod_mod['Signal_all0'] = np.where(mod_mod[signal_columns].eq(0).all(axis=1), 0, 1) \n",
    "\n",
    "    mod_mod['Strategy_Return_all0'] = mod_mod['Signal_all0'].shift(1) * mod_mod['Daily_Return']\n",
    "\n",
    "    # Using strategy with most confident prediction (furthest from 50%)\n",
    "    proba_cols = [col for col in mod_mod.columns if col.startswith('proba_1')]\n",
    "\n",
    "    for i in proba_cols:\n",
    "        mod_mod[\"dist_\"+i] = abs(mod_mod[i] - 0.5)\n",
    "\n",
    "    dist_cols = [col for col in mod_mod.columns if col.startswith('dist_')]\n",
    "\n",
    "    mask = mod_mod[proba_cols].notna().any(axis=1)\n",
    "    mod_mod.loc[mask, 'proba_1max_col'] = mod_mod.loc[mask, proba_cols].idxmax(axis=1, skipna=True)\n",
    "    mod_mod['proba_1max_col'] = mod_mod['proba_1max_col'].str.replace(\"dist_\",\"\")\n",
    "\n",
    "    mod_mod['proba_1max'] = mod_mod.apply(\n",
    "        lambda row: row[row['proba_1max_col']] if pd.notnull(row['proba_1max_col']) else 1, axis=1\n",
    "    )\n",
    "\n",
    "    mod_mod['Signal'] = mod_mod['proba_1max'].round()\n",
    "    \n",
    "    mod_mod['Strategy_Return'] = mod_mod['Signal'].shift(1) * mod_mod['Daily_Return']\n",
    "\n",
    "    if indicator_config.ticker != \"SPY\":\n",
    "        mod_mod.loc[:initial_train_period, 'Strategy_Return'] = mod_mod['Daily_Return_SPY']\n",
    "\n",
    "    mod_mod.loc[0, 'Strategy_Return'] = np.nan\n",
    "\n",
    "    mod_mod_dic[\"_\".join(mods)] = mod_mod"
   ]
  },
  {
   "cell_type": "markdown",
   "id": "da4f7ed1-e8d0-4948-9ad2-aabe5ee9c951",
   "metadata": {},
   "source": [
    "### Results"
   ]
  },
  {
   "cell_type": "code",
   "execution_count": null,
   "id": "c62efc5b-df52-40a3-9ce6-56045f2a7628",
   "metadata": {},
   "outputs": [],
   "source": [
    "initial_capital = 10000 # scalar\n",
    "\n",
    "# Plot Daily Portfolio Value\n",
    "fig = go.Figure()\n",
    "\n",
    "if indicator_config.ticker != \"SPY\":\n",
    "    df = strat_bds['Hold'][initial_train_period:].copy()\n",
    "    df.loc[initial_train_period, 'Strategy_Return'] = 0\n",
    "    df['Portfolio_Value'] = (1 + df['Daily_Return_SPY']).cumprod() * initial_capital\n",
    "\n",
    "    fig.add_trace(go.Scatter(x=df['Date'], y=df['Portfolio_Value'], mode='lines', name='PV SPY_Hold'))\n",
    "\n",
    "for strat in strategy_list:\n",
    "    df = strat_bds[strat][initial_train_period:].copy()\n",
    "    df.loc[initial_train_period, 'Strategy_Return'] = 0\n",
    "    df['Portfolio_Value'] = (1 + df['Strategy_Return']).cumprod() * initial_capital\n",
    "\n",
    "    fig.add_trace(go.Scatter(x=df['Date'], y=df['Portfolio_Value'], mode='lines', name=f'PV ({strat})'))\n",
    "\n",
    "try:\n",
    "    for mods in combos:\n",
    "        df = mod_mod_dic[\"_\".join(mods)][initial_train_period:].copy()\n",
    "        df.loc[initial_train_period, 'Strategy_Return'] = 0\n",
    "        df['Portfolio_Value'] = (1 + df['Strategy_Return']).cumprod() * initial_capital\n",
    "\n",
    "        fig.add_trace(go.Scatter(x=df['Date'], y=df['Portfolio_Value'], mode='lines', name=f\"Portfolio Value ({'_'.join(mods)})\"))\n",
    "except:\n",
    "    pass\n",
    "\n",
    "fig.update_layout(title=\"Portfolio\")\n",
    "fig.show()"
   ]
  },
  {
   "cell_type": "code",
   "execution_count": null,
   "id": "3c04f66c-7d4d-493e-b16a-760303355156",
   "metadata": {},
   "outputs": [],
   "source": [
    "# % right\n",
    "dat = []\n",
    "for i in strategy_list:\n",
    "    after_train = strat_bds[i][initial_train_period:]\n",
    "    cc = after_train.dropna().reset_index(drop=True)\n",
    "    cc['win'] = cc['Target']==cc['Signal']\n",
    "\n",
    "    win = cc['win'].value_counts(normalize=True)[True]\n",
    "    dat.append(win)\n",
    "\n",
    "try:\n",
    "    combos_join = [\"_\".join(x) for x in combos]\n",
    "    for i in combos_join:\n",
    "        cc = mod_mod_dic[i].dropna().reset_index(drop=True)\n",
    "        cc['win'] = cc['Target']==cc['Signal']\n",
    "\n",
    "        win = cc['win'].value_counts(normalize=True)[True]\n",
    "        dat.append(win)\n",
    "\n",
    "    review = pd.DataFrame({'strategy': strategy_list + combos_join, 'pct_right': dat})\n",
    "except:\n",
    "    review = pd.DataFrame({'strategy': strategy_list, 'pct_right': dat})\n",
    "\n",
    "review.sort_values(by='pct_right', ascending=False)"
   ]
  },
  {
   "cell_type": "code",
   "execution_count": null,
   "id": "80e3c56f-2d1d-4112-acaa-1a4899c9fa5c",
   "metadata": {},
   "outputs": [],
   "source": [
    "# Will this ticker go up tomorrow?\n",
    "# import datetime as dt\n",
    "print(f'Last trading date: {strat_bds[\"Hold\"]['Date'].iloc[-1]}\\n')\n",
    "for i in strategy_list:\n",
    "    if 'proba_1' in strat_bds[i].columns:\n",
    "        print(f'{i}: {strat_bds[i]['Signal'].iloc[-1]} (prob_1: {strat_bds[i]['proba_1'].iloc[-1]})')\n",
    "    else:\n",
    "        print(f'{i}: {strat_bds[i]['Signal'].iloc[-1]}')"
   ]
  },
  {
   "cell_type": "code",
   "execution_count": null,
   "id": "7d1ae749-426c-4a1c-b85f-63d3f19c504c",
   "metadata": {},
   "outputs": [],
   "source": [
    "# In the case where signal is 0 across everything, how often does the market actually go down?\n",
    "KNN_Logit_XGBoost = mod_mod_dic['KNN_Logit_XGBoost']\n",
    "KNN_Logit_XGBoost_all0= KNN_Logit_XGBoost.loc[KNN_Logit_XGBoost['Signal_all0']==0]\n",
    "KNN_Logit_XGBoost_all1= KNN_Logit_XGBoost.loc[KNN_Logit_XGBoost['Signal_all0']==1]\n",
    "print(f'There are {len(KNN_Logit_XGBoost_all0)} case(s) where signal is 0 across everything.')\n",
    "print(f'There are {len(KNN_Logit_XGBoost_all1)} case(s) where signal is 1 across everything.')\n",
    "print(f'Of these, there are {sum(KNN_Logit_XGBoost_all1['Target'])} case(s) where Target is 1.')\n",
    "print(sum(KNN_Logit_XGBoost_all1['Target'])/len(KNN_Logit_XGBoost_all1))"
   ]
  },
  {
   "cell_type": "code",
   "execution_count": null,
   "id": "adc02db5-76ee-456f-b676-bb9ddf7daec2",
   "metadata": {},
   "outputs": [],
   "source": [
    "sum(KNN_Logit_XGBoost_all0['Target'])"
   ]
  },
  {
   "cell_type": "markdown",
   "id": "26204e12-7473-4cb1-80fa-8b112080c621",
   "metadata": {},
   "source": [
    "### Testing"
   ]
  },
  {
   "cell_type": "code",
   "execution_count": null,
   "id": "b918e001",
   "metadata": {},
   "outputs": [],
   "source": [
    "########################################################################################################\n",
    "# Testing ##############################################################################################\n",
    "########################################################################################################"
   ]
  },
  {
   "cell_type": "code",
   "execution_count": null,
   "id": "15cb386e-e94c-46af-b841-760cce382ad2",
   "metadata": {},
   "outputs": [],
   "source": [
    "px.histogram(strat_bds['Logit']['proba_1'].dropna(),nbins=50)"
   ]
  },
  {
   "cell_type": "code",
   "execution_count": null,
   "id": "91f97ef1-fa82-4516-8d2a-45740ded3819",
   "metadata": {},
   "outputs": [],
   "source": [
    "px.histogram(strat_bds['KNN']['proba_1'].dropna(),nbins=50)"
   ]
  },
  {
   "cell_type": "code",
   "execution_count": null,
   "id": "3bc010bf-4b4a-464c-a23f-302d743e6af9",
   "metadata": {},
   "outputs": [],
   "source": [
    "px.histogram(strat_bds['XGBoost']['proba_1'].dropna(),nbins=50)"
   ]
  }
 ],
 "metadata": {
  "celltoolbar": "Raw Cell Format",
  "kernelspec": {
   "display_name": "Python [conda env:base] *",
   "language": "python",
   "name": "conda-base-py"
  },
  "language_info": {
   "codemirror_mode": {
    "name": "ipython",
    "version": 3
   },
   "file_extension": ".py",
   "mimetype": "text/x-python",
   "name": "python",
   "nbconvert_exporter": "python",
   "pygments_lexer": "ipython3",
   "version": "3.12.7"
  }
 },
 "nbformat": 4,
 "nbformat_minor": 5
}
